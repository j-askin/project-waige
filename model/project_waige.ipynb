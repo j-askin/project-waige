{
 "cells": [
  {
   "cell_type": "markdown",
   "metadata": {},
   "source": [
    "# Project wAIge"
   ]
  },
  {
   "cell_type": "markdown",
   "metadata": {},
   "source": [
    "[Project description]"
   ]
  },
  {
   "cell_type": "markdown",
   "metadata": {},
   "source": [
    "## Dataset"
   ]
  },
  {
   "cell_type": "markdown",
   "metadata": {},
   "source": [
    "The dataset that will be used is taken from the Family Income and Expenditure Survey (2017)\n",
    "\n",
    "[More descriptions of what features from the dataset will be used]"
   ]
  },
  {
   "cell_type": "markdown",
   "metadata": {},
   "source": [
    "## Decision Tree"
   ]
  },
  {
   "cell_type": "markdown",
   "metadata": {},
   "source": [
    "### Libraries\n",
    "\n",
    "This section contains the libraries that will be used for this project"
   ]
  },
  {
   "cell_type": "code",
   "execution_count": null,
   "metadata": {},
   "outputs": [],
   "source": [
    "import pandas as pd"
   ]
  },
  {
   "cell_type": "markdown",
   "metadata": {},
   "source": [
    "### Data Preprocessing\n",
    "\n",
    "Before proceeding any further, this section alters the dataset to contain only the necessary information that will be used"
   ]
  },
  {
   "cell_type": "code",
   "execution_count": null,
   "metadata": {},
   "outputs": [],
   "source": [
    "# The variable df will contain the altered dataset\n",
    "df = pd.read_csv(\"../data/project_data.csv\")\n",
    "\n",
    "# This section removes the unnecessary columns\n",
    "df.pop(\"Region\")\n",
    "df.pop(\"Total Food Expenditure\")\n",
    "df.pop(\"Agricultural Household indicator\")\n",
    "df.pop(\"Bread and Cereals Expenditure\")\n",
    "df.pop(\"Total Rice Expenditure\")\n",
    "df.pop(\"Meat Expenditure\")\n",
    "df.pop(\"Total Fish and  marine products Expenditure\")\n",
    "df.pop(\"Fruit Expenditure\")\n",
    "df.pop(\"Vegetables Expenditure\")\n",
    "df.pop(\"Restaurant and hotels Expenditure\")\n",
    "df.pop(\"Alcoholic Beverages Expenditure\")\n",
    "df.pop(\"Tobacco Expenditure\")\n",
    "df.pop(\"Clothing, Footwear and Other Wear Expenditure\")\n",
    "df.pop(\"Housing and water Expenditure\")\n",
    "df.pop(\"Imputed House Rental Value\")\n",
    "df.pop(\"Medical Care Expenditure\")\n",
    "df.pop(\"Transportation Expenditure\")\n",
    "df.pop(\"Communication Expenditure\")\n",
    "df.pop(\"Education Expenditure\")\n",
    "df.pop(\"Miscellaneous Goods and Services Expenditure\")\n",
    "df.pop(\"Special Occasions Expenditure\")\n",
    "df.pop(\"Crop Farming and Gardening expenses\")\n",
    "df.pop(\"Total Income from Entrepreneurial Acitivites\")\n",
    "df.pop(\"Household Head Job or Business Indicator\")\n",
    "df.pop(\"Type of Household\")\n",
    "df.pop(\"Total Number of Family members\")\n",
    "df.pop(\"Members with age less than 5 year old\")\n",
    "df.pop(\"Members with age 5 - 17 years old\")\n",
    "df.pop(\"Total number of family members employed\")\n",
    "df.pop(\"Type of Building/House\")\n",
    "df.pop(\"Type of Roof\")\n",
    "df.pop(\"Type of Walls\")\n",
    "df.pop(\"House Floor Area\")\n",
    "df.pop(\"House Age\")\n",
    "df.pop(\"Number of bedrooms\")\n",
    "df.pop(\"Tenure Status\")\n",
    "df.pop(\"Toilet Facilities\")\n",
    "df.pop(\"Electricity\")\n",
    "df.pop(\"Main Source of Water Supply\")\n",
    "df.pop(\"Number of Television\")\n",
    "df.pop(\"Number of CD/VCD/DVD\")\n",
    "df.pop(\"Number of Component/Stereo set\")\n",
    "df.pop(\"Number of Refrigerator/Freezer\")\n",
    "df.pop(\"Number of Washing Machine\")\n",
    "df.pop(\"Number of Airconditioner\")\n",
    "df.pop(\"Number of Car, Jeep, Van\")\n",
    "df.pop(\"Number of Landline/wireless telephones\")\n",
    "df.pop(\"Number of Cellular phone\")\n",
    "df.pop(\"Number of Personal Computer\")\n",
    "df.pop(\"Number of Stove with Oven/Gas Range\")\n",
    "df.pop(\"Number of Motorized Banca\")\n",
    "df.pop(\"Number of Motorcycle/Tricycle\")\n",
    "\n",
    "# This section removes rows that ...\n",
    "# ...contain \"NA\" under \"Household Head Occupation\", ...\n",
    "df = df[df[\"Household Head Occupation\"].notnull()]\n",
    "# ...is not \"Wage/Salaries\" under \"Main Source of Income\" (also drop \"Main Source of Income\" afterwards), ...\n",
    "df = df[df[\"Main Source of Income\"] == \"Wage/Salaries\"]\n",
    "df.pop(\"Main Source of Income\")\n",
    "# ... and is \"Unknown\" under \"Household Head Marital Status\"\n",
    "df = df[df[\"Household Head Marital Status\"] != \"Unknown\"]\n",
    "\n",
    "# This section converts the total yearly income to monthly income...\n",
    "df[\"Total Household Income\"] = df[\"Total Household Income\"].div(12).round(0)\n",
    "df[\"Total Household Income\"] = [int(x) for x in df[\"Total Household Income\"]]\n",
    "# ... and mask it based on our target predictions:\n",
    "#       1 for monthly salary < 19000\n",
    "#       2 for 19000 <= monthly salary <= 110000\n",
    "#       3 for monthly salary > 110000\n",
    "df[\"Total Household Income\"].mask(df[\"Total Household Income\"] > 110000, 3, inplace=True)\n",
    "df[\"Total Household Income\"].mask(df[\"Total Household Income\"] >= 19000 , 2, inplace=True)\n",
    "df[\"Total Household Income\"].mask(df[\"Total Household Income\"] < 19000, 1, inplace=True)\n",
    "\n",
    "# This section renames the remaining columns\n",
    "df.columns = [\"target\", \"sex\", \"age\", \"marital_status\", \"educational_attainment\", \"occupation\", \"work_class\"]\n",
    "\n",
    "# Mask age\n",
    "# -- write code here --\n",
    "\n",
    "# Mask \"marital_status\" by reclassifying some values to \"Single\"\n",
    "# print(df[\"marital_status\"].unique()) # Uncomment this line to see the original values\n",
    "df[\"marital_status\"].mask(df[\"marital_status\"] == \"Widowed\" , \"Single\", inplace=True)\n",
    "df[\"marital_status\"].mask(df[\"marital_status\"] == \"Divorced/Separated\" , \"Single\", inplace=True)\n",
    "df[\"marital_status\"].mask(df[\"marital_status\"] == \"Annulled\" , \"Single\", inplace=True)\n",
    "\n",
    "# Mask educational_attainment\n",
    "# -- write code here --\n",
    "\n",
    "# Mask occupation\n",
    "# -- write code here --\n",
    "\n",
    "# Mask \"work_class\" by reclassifying the values into either \"Public\" or \"Private\"\n",
    "# print(df[\"work_class\"].unique()) # Uncomment this line to see the original values\n",
    "df[\"work_class\"].mask(df[\"work_class\"] == \"Worked for government/government corporation\" , \"Public\", inplace=True)\n",
    "df[\"work_class\"].mask(df[\"work_class\"] == \"Worked for private establishment\" , \"Private\", inplace=True)\n",
    "df[\"work_class\"].mask(df[\"work_class\"] == \"Employer in own family-operated farm or business\" , \"Private\", inplace=True)\n",
    "df[\"work_class\"].mask(df[\"work_class\"] == \"Self-employed wihout any employee\" , \"Private\", inplace=True)\n",
    "df[\"work_class\"].mask(df[\"work_class\"] == \"Worked without pay in own family-operated farm or business\" , \"Private\", inplace=True)\n",
    "df[\"work_class\"].mask(df[\"work_class\"] == \"Worked for private household\" , \"Private\", inplace=True)\n",
    "df[\"work_class\"].mask(df[\"work_class\"] == \"Worked with pay in own family-operated farm or business\" , \"Private\", inplace=True)\n",
    "\n",
    "# print(df)"
   ]
  },
  {
   "cell_type": "markdown",
   "metadata": {},
   "source": [
    "### Modeling the Decision Tree"
   ]
  },
  {
   "cell_type": "code",
   "execution_count": null,
   "metadata": {},
   "outputs": [],
   "source": [
    "# -- write code here --"
   ]
  }
 ],
 "metadata": {
  "language_info": {
   "name": "python"
  },
  "orig_nbformat": 4
 },
 "nbformat": 4,
 "nbformat_minor": 2
}

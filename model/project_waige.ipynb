{
 "cells": [
  {
   "cell_type": "markdown",
   "metadata": {},
   "source": [
    "# Project wAIge"
   ]
  },
  {
   "cell_type": "markdown",
   "metadata": {},
   "source": [
    "[Project description]"
   ]
  },
  {
   "cell_type": "markdown",
   "metadata": {},
   "source": [
    "## Dataset"
   ]
  },
  {
   "cell_type": "markdown",
   "metadata": {},
   "source": [
    "The dataset that will be used is taken from the Family Income and Expenditure Survey (2017)\n",
    "\n",
    "[More descriptions of what features from the dataset will be used]"
   ]
  },
  {
   "cell_type": "markdown",
   "metadata": {},
   "source": [
    "## Decision Tree"
   ]
  },
  {
   "cell_type": "markdown",
   "metadata": {},
   "source": [
    "### Libraries\n",
    "\n",
    "This section contains the libraries that will be used for this project"
   ]
  },
  {
   "cell_type": "code",
   "execution_count": 1,
   "metadata": {},
   "outputs": [],
   "source": [
    "import pandas as pd"
   ]
  },
  {
   "cell_type": "markdown",
   "metadata": {},
   "source": [
    "### Data Preprocessing\n",
    "\n",
    "Before proceeding any further, this section alters the dataset to contain only the necessary information that will be used"
   ]
  },
  {
   "cell_type": "code",
   "execution_count": 16,
   "metadata": {},
   "outputs": [
    {
     "name": "stdout",
     "output_type": "stream",
     "text": [
      "['Female' 'Male']\n"
     ]
    }
   ],
   "source": [
    "# The variable df will contain the altered dataset\n",
    "df = pd.read_csv(\"../data/project_data.csv\")\n",
    "\n",
    "# This section removes the unnecessary columns\n",
    "df = df[[\"Main Source of Income\", \"Household Head Sex\", \"Household Head Age\", \"Household Head Marital Status\", \"Household Head Highest Grade Completed\", \"Household Head Occupation\", \"Household Head Class of Worker\", \"Total Household Income\"]]\n",
    "\n",
    "# This section removes rows that ...\n",
    "# ...contain \"NA\" under \"Household Head Occupation\", ...\n",
    "df = df[df[\"Household Head Occupation\"].notnull()]\n",
    "# ...is not \"Wage/Salaries\" under \"Main Source of Income\" (also drop \"Main Source of Income\" afterwards), ...\n",
    "df = df[df[\"Main Source of Income\"] == \"Wage/Salaries\"]\n",
    "df.pop(\"Main Source of Income\")\n",
    "# ... and is \"Unknown\" under \"Household Head Marital Status\"\n",
    "df = df[df[\"Household Head Marital Status\"] != \"Unknown\"]\n",
    "\n",
    "# This section converts the total yearly income to monthly income...\n",
    "df[\"Total Household Income\"] = df[\"Total Household Income\"].div(12).round(0)\n",
    "df[\"Total Household Income\"] = [int(x) for x in df[\"Total Household Income\"]]\n",
    "# ... and mask it based on our target predictions:\n",
    "#       1 for monthly salary < 19000\n",
    "#       2 for 19000 <= monthly salary <= 110000\n",
    "#       3 for monthly salary > 110000\n",
    "df[\"Total Household Income\"].mask(df[\"Total Household Income\"] > 110000, 3, inplace=True)\n",
    "df[\"Total Household Income\"].mask(df[\"Total Household Income\"] >= 19000 , 2, inplace=True)\n",
    "df[\"Total Household Income\"].mask(df[\"Total Household Income\"] < 19000, 1, inplace=True)\n",
    "\n",
    "# This section renames the remaining columns\n",
    "df.columns = [\"sex\", \"age\", \"marital_status\", \"educational_attainment\", \"occupation\", \"work_class\", \"target\"]\n",
    "\n",
    "# Mask age\n",
    "# -- write code here --\n",
    "\n",
    "# Mask \"marital_status\" by reclassifying some values to \"Single\"\n",
    "# print(df[\"marital_status\"].unique()) # Uncomment this line to see the original values\n",
    "df[\"marital_status\"].mask(df[\"marital_status\"] == \"Widowed\" , \"Single\", inplace=True)\n",
    "df[\"marital_status\"].mask(df[\"marital_status\"] == \"Divorced/Separated\" , \"Single\", inplace=True)\n",
    "df[\"marital_status\"].mask(df[\"marital_status\"] == \"Annulled\" , \"Single\", inplace=True)\n",
    "\n",
    "# Mask \"educational_attainment\" by classifying the values to the following:\n",
    "#       1 Less than High School\n",
    "#       2 for High School Graduate\n",
    "#       3 for Some College\n",
    "#       4 for Bachelor's Degree\n",
    "#       5 for Graduate Degree\n",
    "# print(df[\"educational_attainment\"].unique()) # Uncomment this line to see the original values\n",
    "df[\"educational_attainment\"].mask(df[\"educational_attainment\"] == \"No Grade Completed\" , 1, inplace=True)\n",
    "df[\"educational_attainment\"].mask(df[\"educational_attainment\"] == \"Preschool\" , 1, inplace=True)\n",
    "df[\"educational_attainment\"].mask(df[\"educational_attainment\"] == \"Grade 1\" , 1, inplace=True)\n",
    "df[\"educational_attainment\"].mask(df[\"educational_attainment\"] == \"Grade 2\" , 1, inplace=True)\n",
    "df[\"educational_attainment\"].mask(df[\"educational_attainment\"] == \"Grade 3\" , 1, inplace=True)\n",
    "df[\"educational_attainment\"].mask(df[\"educational_attainment\"] == \"Grade 4\" , 1, inplace=True)\n",
    "df[\"educational_attainment\"].mask(df[\"educational_attainment\"] == \"Grade 5\" , 1, inplace=True)\n",
    "df[\"educational_attainment\"].mask(df[\"educational_attainment\"] == \"Grade 6\" , 1, inplace=True)\n",
    "df[\"educational_attainment\"].mask(df[\"educational_attainment\"] == \"Elementary Graduate\" , 1, inplace=True)\n",
    "df[\"educational_attainment\"].mask(df[\"educational_attainment\"] == \"First Year High School\" , 1, inplace=True)\n",
    "df[\"educational_attainment\"].mask(df[\"educational_attainment\"] == \"Second Year High School\" , 1, inplace=True)\n",
    "df[\"educational_attainment\"].mask(df[\"educational_attainment\"] == \"Third Year High School\" , 1, inplace=True)\n",
    "df[\"educational_attainment\"].mask(df[\"educational_attainment\"] == \"High School Graduate\" , 2, inplace=True)\n",
    "df[\"educational_attainment\"].mask(df[\"educational_attainment\"] == \"First Year Post Secondary\" , 3, inplace=True)\n",
    "df[\"educational_attainment\"].mask(df[\"educational_attainment\"] == \"First Year College\" , 3, inplace=True)\n",
    "df[\"educational_attainment\"].mask(df[\"educational_attainment\"] == \"Second Year Post Secondary\" , 3, inplace=True)\n",
    "df[\"educational_attainment\"].mask(df[\"educational_attainment\"] == \"Second Year College\" , 3, inplace=True)\n",
    "df[\"educational_attainment\"].mask(df[\"educational_attainment\"] == \"Third Year College\" , 3, inplace=True)\n",
    "df[\"educational_attainment\"].mask(df[\"educational_attainment\"] == \"Fourth Year College\" , 3, inplace=True)\n",
    "df[\"educational_attainment\"].mask(df[\"educational_attainment\"] == \"Other Programs in Education at the Third Level, First Stage, of the Type that Leads to an Award not Equivalent to a First University or Baccalaureate Degree\" , 3, inplace=True)\n",
    "df[\"educational_attainment\"].mask(df[\"educational_attainment\"] == \"Other Programs of Education at the Third Level, First Stage, of the Type that Leads to a Baccalaureate or First University/Professional Degree (HIgher Education Level, First Stage, or Collegiate Education Level)\" , 3, inplace=True)\n",
    "df[\"educational_attainment\"].mask(df[\"educational_attainment\"] == \"Teacher Training and Education Sciences Programs\" , 4, inplace=True)\n",
    "df[\"educational_attainment\"].mask(df[\"educational_attainment\"] == \"Transport Services Programs\" , 4, inplace=True)\n",
    "df[\"educational_attainment\"].mask(df[\"educational_attainment\"] == \"Business and Administration Programs\" , 4, inplace=True)\n",
    "df[\"educational_attainment\"].mask(df[\"educational_attainment\"] == \"Social and Behavioral Science Programs\" , 4, inplace=True)\n",
    "df[\"educational_attainment\"].mask(df[\"educational_attainment\"] == \"Agriculture, Forestry, and Fishery Programs\" , 4, inplace=True)\n",
    "df[\"educational_attainment\"].mask(df[\"educational_attainment\"] == \"Engineering and Engineering Trades Programs\" , 4, inplace=True)\n",
    "df[\"educational_attainment\"].mask(df[\"educational_attainment\"] == \"Engineering and Engineering trades Programs\" , 4, inplace=True)\n",
    "df[\"educational_attainment\"].mask(df[\"educational_attainment\"] == \"Basic Programs\" , 4, inplace=True)\n",
    "df[\"educational_attainment\"].mask(df[\"educational_attainment\"] == \"Health Programs\" , 4, inplace=True)\n",
    "df[\"educational_attainment\"].mask(df[\"educational_attainment\"] == \"Security Services Programs\" , 4, inplace=True)\n",
    "df[\"educational_attainment\"].mask(df[\"educational_attainment\"] == \"Humanities Programs\" , 4, inplace=True)\n",
    "df[\"educational_attainment\"].mask(df[\"educational_attainment\"] == \"Computing/Information Technology Programs\" , 4, inplace=True)\n",
    "df[\"educational_attainment\"].mask(df[\"educational_attainment\"] == \"Mathematics and Statistics Programs\" , 4, inplace=True)\n",
    "df[\"educational_attainment\"].mask(df[\"educational_attainment\"] == \"Personal Services Programs\" , 4, inplace=True)\n",
    "df[\"educational_attainment\"].mask(df[\"educational_attainment\"] == \"Journalism and Information Programs\" , 4, inplace=True)\n",
    "df[\"educational_attainment\"].mask(df[\"educational_attainment\"] == \"Architecture and Building Programs\" , 4, inplace=True)\n",
    "df[\"educational_attainment\"].mask(df[\"educational_attainment\"] == \"Life Sciences Programs\" , 4, inplace=True)\n",
    "df[\"educational_attainment\"].mask(df[\"educational_attainment\"] == \"Law Programs\" , 4, inplace=True)\n",
    "df[\"educational_attainment\"].mask(df[\"educational_attainment\"] == \"Manufacturing and Processing Programs\" , 4, inplace=True)\n",
    "df[\"educational_attainment\"].mask(df[\"educational_attainment\"] == \"Physical Sciences Programs\" , 4, inplace=True)\n",
    "df[\"educational_attainment\"].mask(df[\"educational_attainment\"] == \"Environmental Protection Programs\" , 4, inplace=True)\n",
    "df[\"educational_attainment\"].mask(df[\"educational_attainment\"] == \"Social Services Programs\" , 4, inplace=True)\n",
    "df[\"educational_attainment\"].mask(df[\"educational_attainment\"] == \"Veterinary Programs\" , 4, inplace=True)\n",
    "df[\"educational_attainment\"].mask(df[\"educational_attainment\"] == \"Arts Programs\" , 4, inplace=True)\n",
    "df[\"educational_attainment\"].mask(df[\"educational_attainment\"] == \"Post Baccalaureate\" , 5, inplace=True)\n",
    "\n",
    "# Mask occupation\n",
    "# There are 364 values to mask\n",
    "# for i in df[\"occupation\"].unique():\n",
    "#     print(i)\n",
    "\n",
    "# Mask \"work_class\" by reclassifying the values into either \"Public\" or \"Private\"\n",
    "# print(df[\"work_class\"].unique()) # Uncomment this line to see the original values\n",
    "df[\"work_class\"].mask(df[\"work_class\"] == \"Worked for government/government corporation\" , \"Public\", inplace=True)\n",
    "df[\"work_class\"].mask(df[\"work_class\"] == \"Worked for private establishment\" , \"Private\", inplace=True)\n",
    "df[\"work_class\"].mask(df[\"work_class\"] == \"Employer in own family-operated farm or business\" , \"Private\", inplace=True)\n",
    "df[\"work_class\"].mask(df[\"work_class\"] == \"Self-employed wihout any employee\" , \"Private\", inplace=True)\n",
    "df[\"work_class\"].mask(df[\"work_class\"] == \"Worked without pay in own family-operated farm or business\" , \"Private\", inplace=True)\n",
    "df[\"work_class\"].mask(df[\"work_class\"] == \"Worked for private household\" , \"Private\", inplace=True)\n",
    "df[\"work_class\"].mask(df[\"work_class\"] == \"Worked with pay in own family-operated farm or business\" , \"Private\", inplace=True)\n",
    "\n",
    "# print(df)"
   ]
  },
  {
   "cell_type": "markdown",
   "metadata": {},
   "source": [
    "### Modeling the Decision Tree"
   ]
  },
  {
   "cell_type": "code",
   "execution_count": 3,
   "metadata": {},
   "outputs": [],
   "source": [
    "# -- write code here --"
   ]
  }
 ],
 "metadata": {
  "language_info": {
   "name": "python"
  },
  "orig_nbformat": 4
 },
 "nbformat": 4,
 "nbformat_minor": 2
}
